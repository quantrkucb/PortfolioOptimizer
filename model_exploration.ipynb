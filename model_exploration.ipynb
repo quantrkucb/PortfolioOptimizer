{
 "cells": [
  {
   "cell_type": "code",
   "execution_count": 182,
   "metadata": {},
   "outputs": [
    {
     "name": "stdout",
     "output_type": "stream",
     "text": [
      "Collecting streamlit\n",
      "  Downloading streamlit-1.39.0-py2.py3-none-any.whl (8.7 MB)\n",
      "\u001b[2K     \u001b[90m━━━━━━━━━━━━━━━━━━━━━━━━━━━━━━━━━━━━━━━━\u001b[0m \u001b[32m8.7/8.7 MB\u001b[0m \u001b[31m2.8 MB/s\u001b[0m eta \u001b[36m0:00:00\u001b[0m00:01\u001b[0m00:01\u001b[0m\n",
      "\u001b[?25hCollecting altair<6,>=4.0 (from streamlit)\n",
      "  Using cached altair-5.4.1-py3-none-any.whl (658 kB)\n",
      "Collecting blinker<2,>=1.0.0 (from streamlit)\n",
      "  Using cached blinker-1.8.2-py3-none-any.whl (9.5 kB)\n",
      "Collecting cachetools<6,>=4.0 (from streamlit)\n",
      "  Using cached cachetools-5.5.0-py3-none-any.whl (9.5 kB)\n",
      "Requirement already satisfied: click<9,>=7.0 in /opt/homebrew/lib/python3.11/site-packages (from streamlit) (8.1.7)\n",
      "Requirement already satisfied: numpy<3,>=1.20 in /opt/homebrew/lib/python3.11/site-packages (from streamlit) (1.25.1)\n",
      "Requirement already satisfied: packaging<25,>=20 in /Users/rishikumra/Library/Python/3.11/lib/python/site-packages (from streamlit) (23.1)\n",
      "Requirement already satisfied: pandas<3,>=1.4.0 in /opt/homebrew/lib/python3.11/site-packages (from streamlit) (1.4.4)\n",
      "Requirement already satisfied: pillow<11,>=7.1.0 in /opt/homebrew/lib/python3.11/site-packages (from streamlit) (10.2.0)\n",
      "Collecting protobuf<6,>=3.20 (from streamlit)\n",
      "  Downloading protobuf-5.28.2-cp38-abi3-macosx_10_9_universal2.whl (414 kB)\n",
      "\u001b[2K     \u001b[90m━━━━━━━━━━━━━━━━━━━━━━━━━━━━━━━━━━━━━━━\u001b[0m \u001b[32m414.7/414.7 kB\u001b[0m \u001b[31m3.1 MB/s\u001b[0m eta \u001b[36m0:00:00\u001b[0ma \u001b[36m0:00:01\u001b[0m\n",
      "\u001b[?25hCollecting pyarrow>=7.0 (from streamlit)\n",
      "  Downloading pyarrow-17.0.0-cp311-cp311-macosx_11_0_arm64.whl (27.2 MB)\n",
      "\u001b[2K     \u001b[90m━━━━━━━━━━━━━━━━━━━━━━━━━━━━━━━━━━━━━━━━\u001b[0m \u001b[32m27.2/27.2 MB\u001b[0m \u001b[31m5.4 MB/s\u001b[0m eta \u001b[36m0:00:00\u001b[0m00:01\u001b[0m00:01\u001b[0m\n",
      "\u001b[?25hRequirement already satisfied: requests<3,>=2.27 in /Users/rishikumra/Library/Python/3.11/lib/python/site-packages (from streamlit) (2.31.0)\n",
      "Collecting rich<14,>=10.14.0 (from streamlit)\n",
      "  Downloading rich-13.9.2-py3-none-any.whl (242 kB)\n",
      "\u001b[2K     \u001b[90m━━━━━━━━━━━━━━━━━━━━━━━━━━━━━━━━━━━━━━━\u001b[0m \u001b[32m242.1/242.1 kB\u001b[0m \u001b[31m5.3 MB/s\u001b[0m eta \u001b[36m0:00:00\u001b[0ma \u001b[36m0:00:01\u001b[0m\n",
      "\u001b[?25hRequirement already satisfied: tenacity<10,>=8.1.0 in /opt/homebrew/lib/python3.11/site-packages (from streamlit) (8.2.3)\n",
      "Collecting toml<2,>=0.10.1 (from streamlit)\n",
      "  Using cached toml-0.10.2-py2.py3-none-any.whl (16 kB)\n",
      "Requirement already satisfied: typing-extensions<5,>=4.3.0 in /opt/homebrew/lib/python3.11/site-packages (from streamlit) (4.12.0)\n",
      "Collecting gitpython!=3.1.19,<4,>=3.0.7 (from streamlit)\n",
      "  Using cached GitPython-3.1.43-py3-none-any.whl (207 kB)\n",
      "Collecting pydeck<1,>=0.8.0b4 (from streamlit)\n",
      "  Using cached pydeck-0.9.1-py2.py3-none-any.whl (6.9 MB)\n",
      "Requirement already satisfied: tornado<7,>=6.0.3 in /Users/rishikumra/Library/Python/3.11/lib/python/site-packages (from streamlit) (6.3.2)\n",
      "Requirement already satisfied: jinja2 in /Users/rishikumra/Library/Python/3.11/lib/python/site-packages (from altair<6,>=4.0->streamlit) (3.1.2)\n",
      "Requirement already satisfied: jsonschema>=3.0 in /Users/rishikumra/Library/Python/3.11/lib/python/site-packages (from altair<6,>=4.0->streamlit) (4.18.4)\n",
      "Collecting narwhals>=1.5.2 (from altair<6,>=4.0->streamlit)\n",
      "  Downloading narwhals-1.9.3-py3-none-any.whl (185 kB)\n",
      "\u001b[2K     \u001b[90m━━━━━━━━━━━━━━━━━━━━━━━━━━━━━━━━━━━━━━━\u001b[0m \u001b[32m185.3/185.3 kB\u001b[0m \u001b[31m6.0 MB/s\u001b[0m eta \u001b[36m0:00:00\u001b[0m\n",
      "\u001b[?25hCollecting gitdb<5,>=4.0.1 (from gitpython!=3.1.19,<4,>=3.0.7->streamlit)\n",
      "  Using cached gitdb-4.0.11-py3-none-any.whl (62 kB)\n",
      "Requirement already satisfied: python-dateutil>=2.8.1 in /Users/rishikumra/Library/Python/3.11/lib/python/site-packages (from pandas<3,>=1.4.0->streamlit) (2.8.2)\n",
      "Requirement already satisfied: pytz>=2020.1 in /opt/homebrew/lib/python3.11/site-packages (from pandas<3,>=1.4.0->streamlit) (2023.3)\n",
      "Requirement already satisfied: charset-normalizer<4,>=2 in /Users/rishikumra/Library/Python/3.11/lib/python/site-packages (from requests<3,>=2.27->streamlit) (3.2.0)\n",
      "Requirement already satisfied: idna<4,>=2.5 in /Users/rishikumra/Library/Python/3.11/lib/python/site-packages (from requests<3,>=2.27->streamlit) (3.4)\n",
      "Requirement already satisfied: urllib3<3,>=1.21.1 in /Users/rishikumra/Library/Python/3.11/lib/python/site-packages (from requests<3,>=2.27->streamlit) (2.0.4)\n",
      "Requirement already satisfied: certifi>=2017.4.17 in /Users/rishikumra/Library/Python/3.11/lib/python/site-packages (from requests<3,>=2.27->streamlit) (2023.7.22)\n",
      "Collecting markdown-it-py>=2.2.0 (from rich<14,>=10.14.0->streamlit)\n",
      "  Downloading markdown_it_py-3.0.0-py3-none-any.whl (87 kB)\n",
      "\u001b[2K     \u001b[90m━━━━━━━━━━━━━━━━━━━━━━━━━━━━━━━━━━━━━━━━\u001b[0m \u001b[32m87.5/87.5 kB\u001b[0m \u001b[31m3.7 MB/s\u001b[0m eta \u001b[36m0:00:00\u001b[0m\n",
      "\u001b[?25hRequirement already satisfied: pygments<3.0.0,>=2.13.0 in /Users/rishikumra/Library/Python/3.11/lib/python/site-packages (from rich<14,>=10.14.0->streamlit) (2.15.1)\n",
      "Collecting smmap<6,>=3.0.1 (from gitdb<5,>=4.0.1->gitpython!=3.1.19,<4,>=3.0.7->streamlit)\n",
      "  Using cached smmap-5.0.1-py3-none-any.whl (24 kB)\n",
      "Requirement already satisfied: MarkupSafe>=2.0 in /Users/rishikumra/Library/Python/3.11/lib/python/site-packages (from jinja2->altair<6,>=4.0->streamlit) (2.1.3)\n",
      "Requirement already satisfied: attrs>=22.2.0 in /Users/rishikumra/Library/Python/3.11/lib/python/site-packages (from jsonschema>=3.0->altair<6,>=4.0->streamlit) (23.1.0)\n",
      "Requirement already satisfied: jsonschema-specifications>=2023.03.6 in /Users/rishikumra/Library/Python/3.11/lib/python/site-packages (from jsonschema>=3.0->altair<6,>=4.0->streamlit) (2023.7.1)\n",
      "Requirement already satisfied: referencing>=0.28.4 in /Users/rishikumra/Library/Python/3.11/lib/python/site-packages (from jsonschema>=3.0->altair<6,>=4.0->streamlit) (0.30.0)\n",
      "Requirement already satisfied: rpds-py>=0.7.1 in /Users/rishikumra/Library/Python/3.11/lib/python/site-packages (from jsonschema>=3.0->altair<6,>=4.0->streamlit) (0.9.2)\n",
      "Collecting mdurl~=0.1 (from markdown-it-py>=2.2.0->rich<14,>=10.14.0->streamlit)\n",
      "  Downloading mdurl-0.1.2-py3-none-any.whl (10.0 kB)\n",
      "Requirement already satisfied: six>=1.5 in /Users/rishikumra/Library/Python/3.11/lib/python/site-packages (from python-dateutil>=2.8.1->pandas<3,>=1.4.0->streamlit) (1.16.0)\n",
      "Installing collected packages: toml, smmap, pyarrow, protobuf, narwhals, mdurl, cachetools, blinker, pydeck, markdown-it-py, gitdb, rich, gitpython, altair, streamlit\n",
      "Successfully installed altair-5.4.1 blinker-1.8.2 cachetools-5.5.0 gitdb-4.0.11 gitpython-3.1.43 markdown-it-py-3.0.0 mdurl-0.1.2 narwhals-1.9.3 protobuf-5.28.2 pyarrow-17.0.0 pydeck-0.9.1 rich-13.9.2 smmap-5.0.1 streamlit-1.39.0 toml-0.10.2\n",
      "\n",
      "\u001b[1m[\u001b[0m\u001b[34;49mnotice\u001b[0m\u001b[1;39;49m]\u001b[0m\u001b[39;49m A new release of pip is available: \u001b[0m\u001b[31;49m23.1.2\u001b[0m\u001b[39;49m -> \u001b[0m\u001b[32;49m24.2\u001b[0m\n",
      "\u001b[1m[\u001b[0m\u001b[34;49mnotice\u001b[0m\u001b[1;39;49m]\u001b[0m\u001b[39;49m To update, run: \u001b[0m\u001b[32;49mpython3.11 -m pip install --upgrade pip\u001b[0m\n"
     ]
    }
   ],
   "source": [
    "!pip install streamlit"
   ]
  },
  {
   "cell_type": "code",
   "execution_count": 100,
   "metadata": {},
   "outputs": [
    {
     "name": "stdout",
     "output_type": "stream",
     "text": [
      "[*********************100%***********************]  5 of 5 completed\n",
      "[*********************100%***********************]  1 of 1 completed\n",
      "AAPL    0.185332\n",
      "CAT     0.878632\n",
      "MSFT    0.578955\n",
      "TSLA    0.110291\n",
      "WMT    -0.753210\n",
      "dtype: float64\n"
     ]
    },
    {
     "data": {
      "image/png": "[encoded data removed]",
      "text/plain": [
       "<Figure size 640x480 with 1 Axes>"
      ]
     },
     "metadata": {},
     "output_type": "display_data"
    }
   ],
   "source": [
    "import numpy as np\n",
    "import pandas as pd\n",
    "import yfinance as yf\n",
    "from dateutil.relativedelta import relativedelta\n",
    "\n",
    "# Merton Matrix Model - Min Variance Portfolio\n",
    "\n",
    "# Timeframe\n",
    "\n",
    "sd = pd.Timestamp('2010-01-01').date()\n",
    "ed = pd.Timestamp('2020-01-01').date()\n",
    "\n",
    "if relativedelta(ed,sd).days >0 and relativedelta(ed,sd).years <1:\n",
    "    time_frame = 1\n",
    "else:\n",
    "    time_frame = relativedelta(ed,sd).years\n",
    "\n",
    "\n",
    "# choose stocks\n",
    "\n",
    "stocks_ = ['TSLA', 'AAPL', 'MSFT', 'WMT', 'CAT']\n",
    "mkt_ = ['^GSPC']\n",
    "data = yf.download(stocks_, start=sd, end=ed)\n",
    "mkt_data = yf.download(mkt_, start = sd, end = ed)\n",
    "\n",
    "# data treatment\n",
    "\n",
    "ticker = '^TNX'\n",
    "risk_free_data = yf.Ticker(ticker).history(period=f'{time_frame}y')\n",
    "\n",
    "rf = risk_free_data['Close'].mean()/100\n",
    "\n",
    "rf\n",
    "from dateutil.relativedelta import relativedelta\n",
    "\n",
    "relativedelta(ed,sd).years\n",
    "data = data['Adj Close']\n",
    "\n",
    "if data.isna().sum().sum() > 0.1*len(data):\n",
    "    raise AssertionError\n",
    "else:\n",
    "    data = data.dropna()\n",
    "\n",
    "stock_returns = data.pct_change().dropna()\n",
    "df_statistics = pd.DataFrame()\n",
    "df_statistics['Return'] = (stock_returns + 1).prod()**(252/len(stock_returns))-1\n",
    "df_statistics['Std'] = stock_returns.std() * np.sqrt(252)\n",
    "mkt_returns = mkt_data['Adj Close'].pct_change().dropna()\n",
    "mkt_returns = mkt_returns.reindex(mkt_returns.index.intersection(stock_returns.index))\n",
    "sp = (mkt_returns+1).product()**(252/len(mkt_returns))-1\n",
    "\n",
    "beta_ = {}\n",
    "for i in stock_returns:\n",
    "    y = np.array(stock_returns[i]).reshape(-1, 1)  # Dependent variable (stock returns)\n",
    "    X = np.array(mkt_returns).reshape(-1, 1)  # Independent variable (market returns)\n",
    "    \n",
    "    # Adds a column for the intercept (constant term)\n",
    "    X = np.hstack((np.ones((len(X), 1)), X))  \n",
    "    beta_[i] = np.linalg.inv(X.T @ X) @ (X.T @ y)\n",
    "\n",
    "beta_only = {stock: coeff[1] for stock, coeff in beta_.items()}\n",
    "\n",
    "beta_df = pd.DataFrame(list(beta_only.values()), index=beta_only.keys(), columns=['Beta'])\n",
    "df_statistics['beta'] = beta_df\n",
    "df_statistics = df_statistics.T\n",
    "er = {}\n",
    "for i in df_statistics:\n",
    "    er[i] = rf + df_statistics.loc['beta', i] * (sp - rf)\n",
    "df_statistics.loc['Expected Return(CAPM)'] = er.values()\n",
    "stock_cov = stock_returns.cov()*252\n",
    "stock_cov_inv = np.linalg.inv(stock_cov)\n",
    "stock_cov_inv = pd.DataFrame(stock_cov_inv)\n",
    "stock_cov_inv.columns = stock_cov.columns\n",
    "e_ = [1]*len(stock_cov.columns)\n",
    "r_ = list(df_statistics.loc['Expected Return(CAPM)'])\n",
    "h_ = np.matmul(e_, stock_cov_inv)\n",
    "g_ = np.matmul(r_, stock_cov_inv)\n",
    "alpha = np.matmul(e_, h_.T)\n",
    "beta = np.matmul(e_, g_.T)\n",
    "gamma = np.matmul(r_, g_.T)\n",
    "delta = alpha*gamma - beta**2\n",
    "MVP = h_/alpha\n",
    "pf_return = beta/alpha\n",
    "pf_std = np.sqrt(1/alpha)\n",
    "import matplotlib.pyplot as plt\n",
    "risk_ = {}\n",
    "x = []\n",
    "for j in range(0,int(np.round(pf_return,3)*2000), 1):\n",
    "    risk_[j] = np.sqrt((alpha*((j/1000)**2)-2*beta*(j/1000) + gamma)/delta)\n",
    "    x.append(j/1000)\n",
    "plt.plot(risk_.values(), x)\n",
    "\n",
    "target_return = 0.2\n",
    "\n",
    "lambda_ = (gamma - beta*target_return)/delta\n",
    "mew_ = (alpha*target_return - beta)/delta\n",
    "\n",
    "optimal_pf = lambda_ * h_ + mew_ * g_\n",
    "\n",
    "print(optimal_pf)\n"
   ]
  },
  {
   "cell_type": "code",
   "execution_count": 176,
   "metadata": {},
   "outputs": [],
   "source": [
    "# BLACK LITTERMAN\n",
    "from datetime import timedelta\n",
    "\n",
    "caps = {}\n",
    "\n",
    "for i in stocks_:\n",
    "    ticker = yf.Ticker(i)\n",
    "    all_dates = ticker.quarterly_income_stmt.columns\n",
    "    total_shares = ticker.quarterly_income_stmt[all_dates[0]]['Basic Average Shares']\n",
    "    stock_price = ticker.history(start=all_dates[0]-timedelta(2,0,0), end=all_dates[0])['Close']\n",
    "    market_cap = stock_price * total_shares\n",
    "    caps[i] = (market_cap.values[0])\n",
    "market_caps = caps\n"
   ]
  },
  {
   "cell_type": "code",
   "execution_count": 177,
   "metadata": {},
   "outputs": [
    {
     "data": {
      "text/plain": [
       "array([0.08009241, 0.40794057, 0.42063331, 0.0708325 , 0.02050121])"
      ]
     },
     "execution_count": 177,
     "metadata": {},
     "output_type": "execute_result"
    }
   ],
   "source": [
    "total_cap = sum(market_caps.values())\n",
    "df = pd.DataFrame(market_caps.items(), columns=['Stock', 'Market Cap'])\n",
    "df['Cap Ratio'] = df['Market Cap'] / total_cap\n",
    "mkt_cap_weights = df['Cap Ratio'].values\n",
    "mkt_cap_weights"
   ]
  },
  {
   "cell_type": "code",
   "execution_count": 178,
   "metadata": {},
   "outputs": [],
   "source": [
    "from scipy.optimize import minimize\n",
    "\n",
    "initial_r = r_\n",
    "def objective_function(r):\n",
    "    # Calculate h_ and g_ based on adjusted r_\n",
    "    h_ = np.matmul(e_, stock_cov_inv)\n",
    "    g_ = np.matmul(r, stock_cov_inv)\n",
    "    alpha = np.matmul(e_, h_.T)\n",
    "    beta = np.matmul(e_, g_.T)\n",
    "    gamma = np.matmul(r, g_.T)\n",
    "    delta = alpha * gamma - beta**2\n",
    "\n",
    "    # Calculate optimal portfolio weights\n",
    "    target_return = (gamma - beta*rf)/(beta-alpha*rf)\n",
    "    lambda_ = (gamma - beta * rf) / delta\n",
    "    mew_ = (alpha * target_return - beta) / delta\n",
    "    optimal_pf = lambda_ * h_ + mew_ * g_\n",
    "\n",
    "    # Return the difference from market cap weights\n",
    "    return np.sum((optimal_pf - mkt_cap_weights) ** 2)\n",
    "\n",
    "result = minimize(objective_function, initial_r, method='L-BFGS-B')\n",
    "\n",
    "# Updated expected returns after optimization\n",
    "optimized_r = result.x"
   ]
  },
  {
   "cell_type": "code",
   "execution_count": 179,
   "metadata": {},
   "outputs": [
    {
     "data": {
      "text/plain": [
       "array([-0.00823814, -0.02530273, -0.01664642, -0.02841783,  0.01111734])"
      ]
     },
     "execution_count": 179,
     "metadata": {},
     "output_type": "execute_result"
    }
   ],
   "source": [
    "optimized_r"
   ]
  },
  {
   "cell_type": "code",
   "execution_count": 180,
   "metadata": {},
   "outputs": [
    {
     "data": {
      "text/plain": [
       "[0.1293448226706741,\n",
       " 0.15979238182358396,\n",
       " 0.135391744633012,\n",
       " 0.1559184283715318,\n",
       " 0.07959595589068968]"
      ]
     },
     "execution_count": 180,
     "metadata": {},
     "output_type": "execute_result"
    }
   ],
   "source": [
    "r_"
   ]
  },
  {
   "cell_type": "code",
   "execution_count": null,
   "metadata": {},
   "outputs": [],
   "source": []
  }
 ],
 "metadata": {
  "kernelspec": {
   "display_name": "Python 3",
   "language": "python",
   "name": "python3"
  },
  "language_info": {
   "codemirror_mode": {
    "name": "ipython",
    "version": 3
   },
   "file_extension": ".py",
   "mimetype": "text/x-python",
   "name": "python",
   "nbconvert_exporter": "python",
   "pygments_lexer": "ipython3",
   "version": "3.11.2"
  },
  "orig_nbformat": 4,
  "vscode": {
   "interpreter": {
    "hash": "b0fa6594d8f4cbf19f97940f81e996739fb7646882a419484c72d19e05852a7e"
   }
  }
 },
 "nbformat": 4,
 "nbformat_minor": 2
}
